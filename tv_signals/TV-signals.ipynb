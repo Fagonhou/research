{
 "cells": [
  {
   "cell_type": "markdown",
   "metadata": {},
   "source": [
    "# Doest TradingView combined signals works? \n"
   ]
  },
  {
   "cell_type": "markdown",
   "metadata": {},
   "source": [
    "![title](img1.png)"
   ]
  },
  {
   "cell_type": "markdown",
   "metadata": {},
   "source": [
    "## Data"
   ]
  },
  {
   "cell_type": "code",
   "execution_count": 2,
   "metadata": {
    "ExecuteTime": {
     "end_time": "2020-02-22T16:50:05.383854Z",
     "start_time": "2020-02-22T16:50:03.327Z"
    }
   },
   "outputs": [],
   "source": [
    "library(tidyverse)\n",
    "library(DT)\n",
    "\n",
    ".av_api_key <- \"your_key_here\"\n",
    "\n",
    "# Get data\n",
    "data     <- read_csv(\"data.csv\", col_types = cols())\n",
    "products <- read_csv(\"products.csv\", col_types = cols())"
   ]
  },
  {
   "cell_type": "markdown",
   "metadata": {},
   "source": [
    "### Products"
   ]
  },
  {
   "cell_type": "code",
   "execution_count": 10,
   "metadata": {
    "ExecuteTime": {
     "end_time": "2020-02-22T16:43:26.727000Z",
     "start_time": "2020-02-22T16:43:26.686Z"
    },
    "scrolled": false
   },
   "outputs": [
    {
     "data": {
      "text/html": [
       "<table>\n",
       "<caption>A spec_tbl_df: 24 × 3</caption>\n",
       "<thead>\n",
       "\t<tr><th scope=col>ticker</th><th scope=col>type</th><th scope=col>name</th></tr>\n",
       "\t<tr><th scope=col>&lt;chr&gt;</th><th scope=col>&lt;chr&gt;</th><th scope=col>&lt;chr&gt;</th></tr>\n",
       "</thead>\n",
       "<tbody>\n",
       "\t<tr><td>BNBUSD </td><td>crypto</td><td>Binance Coin / US Dollar (calculated by TradingView) </td></tr>\n",
       "\t<tr><td>BTCUSD </td><td>crypto</td><td>Bitcoin / Dollar                                     </td></tr>\n",
       "\t<tr><td>DASHUSD</td><td>crypto</td><td>Dash / US Dollar (calculated by TradingView)         </td></tr>\n",
       "\t<tr><td>EOSUSD </td><td>crypto</td><td>EOS / US Dollar (calculated by TradingView)          </td></tr>\n",
       "\t<tr><td>ETHUSD </td><td>crypto</td><td>Ethereum / US Dollar (calculated by TradingView)     </td></tr>\n",
       "\t<tr><td>IOTAUSD</td><td>crypto</td><td>IOTA / US Dollar (calculated by TradingView)         </td></tr>\n",
       "\t<tr><td>LTCUSD </td><td>crypto</td><td>Litecoin / US Dollar (calculated by TradingView)     </td></tr>\n",
       "\t<tr><td>XRPUSD </td><td>crypto</td><td>XRP / U.S. dollar                                    </td></tr>\n",
       "\t<tr><td>DAX    </td><td>index </td><td>DAX INDEX                                            </td></tr>\n",
       "\t<tr><td>DJI    </td><td>index </td><td>Dow Jones Industrial Average                         </td></tr>\n",
       "\t<tr><td>IXIC   </td><td>index </td><td>NASDAQ COMPOSITE                                     </td></tr>\n",
       "\t<tr><td>NI225  </td><td>index </td><td>NIKKEI 225                                           </td></tr>\n",
       "\t<tr><td>NIFTY  </td><td>index </td><td>NIFTY 50                                             </td></tr>\n",
       "\t<tr><td><span style=white-space:pre-wrap>SPX    </span></td><td>index </td><td><span style=white-space:pre-wrap>S&amp;P 500                                              </span></td></tr>\n",
       "\t<tr><td><span style=white-space:pre-wrap>TSX    </span></td><td>index </td><td><span style=white-space:pre-wrap>S&amp;P/TSX COMPOSITE INDEX                              </span></td></tr>\n",
       "\t<tr><td>VIX    </td><td>index </td><td>CBOE VOLATILITY INDEX                                </td></tr>\n",
       "\t<tr><td>AAPL   </td><td>stock </td><td>APPLE INC                                            </td></tr>\n",
       "\t<tr><td>AMZN   </td><td>stock </td><td>AMAZON COM INC                                       </td></tr>\n",
       "\t<tr><td>BABA   </td><td>stock </td><td>ALIBABA GROUP HOLDING LTD SPON ADS EACH REP 8 ORD SHS</td></tr>\n",
       "\t<tr><td>FB     </td><td>stock </td><td>FACEBOOK INC                                         </td></tr>\n",
       "\t<tr><td>GOOG   </td><td>stock </td><td>ALPHABET INC                                         </td></tr>\n",
       "\t<tr><td><span style=white-space:pre-wrap>JNJ    </span></td><td>stock </td><td><span style=white-space:pre-wrap>JOHNSON &amp; JOHNSON                                    </span></td></tr>\n",
       "\t<tr><td><span style=white-space:pre-wrap>JPM    </span></td><td>stock </td><td><span style=white-space:pre-wrap>JPMORGAN CHASE &amp; CO.                                 </span></td></tr>\n",
       "\t<tr><td>MSFT   </td><td>stock </td><td>MICROSOFT CORP                                       </td></tr>\n",
       "</tbody>\n",
       "</table>\n"
      ],
      "text/latex": [
       "A spec\\_tbl\\_df: 24 × 3\n",
       "\\begin{tabular}{lll}\n",
       " ticker & type & name\\\\\n",
       " <chr> & <chr> & <chr>\\\\\n",
       "\\hline\n",
       "\t BNBUSD  & crypto & Binance Coin / US Dollar (calculated by TradingView) \\\\\n",
       "\t BTCUSD  & crypto & Bitcoin / Dollar                                     \\\\\n",
       "\t DASHUSD & crypto & Dash / US Dollar (calculated by TradingView)         \\\\\n",
       "\t EOSUSD  & crypto & EOS / US Dollar (calculated by TradingView)          \\\\\n",
       "\t ETHUSD  & crypto & Ethereum / US Dollar (calculated by TradingView)     \\\\\n",
       "\t IOTAUSD & crypto & IOTA / US Dollar (calculated by TradingView)         \\\\\n",
       "\t LTCUSD  & crypto & Litecoin / US Dollar (calculated by TradingView)     \\\\\n",
       "\t XRPUSD  & crypto & XRP / U.S. dollar                                    \\\\\n",
       "\t DAX     & index  & DAX INDEX                                            \\\\\n",
       "\t DJI     & index  & Dow Jones Industrial Average                         \\\\\n",
       "\t IXIC    & index  & NASDAQ COMPOSITE                                     \\\\\n",
       "\t NI225   & index  & NIKKEI 225                                           \\\\\n",
       "\t NIFTY   & index  & NIFTY 50                                             \\\\\n",
       "\t SPX     & index  & S\\&P 500                                              \\\\\n",
       "\t TSX     & index  & S\\&P/TSX COMPOSITE INDEX                              \\\\\n",
       "\t VIX     & index  & CBOE VOLATILITY INDEX                                \\\\\n",
       "\t AAPL    & stock  & APPLE INC                                            \\\\\n",
       "\t AMZN    & stock  & AMAZON COM INC                                       \\\\\n",
       "\t BABA    & stock  & ALIBABA GROUP HOLDING LTD SPON ADS EACH REP 8 ORD SHS\\\\\n",
       "\t FB      & stock  & FACEBOOK INC                                         \\\\\n",
       "\t GOOG    & stock  & ALPHABET INC                                         \\\\\n",
       "\t JNJ     & stock  & JOHNSON \\& JOHNSON                                    \\\\\n",
       "\t JPM     & stock  & JPMORGAN CHASE \\& CO.                                 \\\\\n",
       "\t MSFT    & stock  & MICROSOFT CORP                                       \\\\\n",
       "\\end{tabular}\n"
      ],
      "text/markdown": [
       "\n",
       "A spec_tbl_df: 24 × 3\n",
       "\n",
       "| ticker &lt;chr&gt; | type &lt;chr&gt; | name &lt;chr&gt; |\n",
       "|---|---|---|\n",
       "| BNBUSD  | crypto | Binance Coin / US Dollar (calculated by TradingView)  |\n",
       "| BTCUSD  | crypto | Bitcoin / Dollar                                      |\n",
       "| DASHUSD | crypto | Dash / US Dollar (calculated by TradingView)          |\n",
       "| EOSUSD  | crypto | EOS / US Dollar (calculated by TradingView)           |\n",
       "| ETHUSD  | crypto | Ethereum / US Dollar (calculated by TradingView)      |\n",
       "| IOTAUSD | crypto | IOTA / US Dollar (calculated by TradingView)          |\n",
       "| LTCUSD  | crypto | Litecoin / US Dollar (calculated by TradingView)      |\n",
       "| XRPUSD  | crypto | XRP / U.S. dollar                                     |\n",
       "| DAX     | index  | DAX INDEX                                             |\n",
       "| DJI     | index  | Dow Jones Industrial Average                          |\n",
       "| IXIC    | index  | NASDAQ COMPOSITE                                      |\n",
       "| NI225   | index  | NIKKEI 225                                            |\n",
       "| NIFTY   | index  | NIFTY 50                                              |\n",
       "| SPX     | index  | S&amp;P 500                                               |\n",
       "| TSX     | index  | S&amp;P/TSX COMPOSITE INDEX                               |\n",
       "| VIX     | index  | CBOE VOLATILITY INDEX                                 |\n",
       "| AAPL    | stock  | APPLE INC                                             |\n",
       "| AMZN    | stock  | AMAZON COM INC                                        |\n",
       "| BABA    | stock  | ALIBABA GROUP HOLDING LTD SPON ADS EACH REP 8 ORD SHS |\n",
       "| FB      | stock  | FACEBOOK INC                                          |\n",
       "| GOOG    | stock  | ALPHABET INC                                          |\n",
       "| JNJ     | stock  | JOHNSON &amp; JOHNSON                                     |\n",
       "| JPM     | stock  | JPMORGAN CHASE &amp; CO.                                  |\n",
       "| MSFT    | stock  | MICROSOFT CORP                                        |\n",
       "\n"
      ],
      "text/plain": [
       "   ticker  type   name                                                 \n",
       "1  BNBUSD  crypto Binance Coin / US Dollar (calculated by TradingView) \n",
       "2  BTCUSD  crypto Bitcoin / Dollar                                     \n",
       "3  DASHUSD crypto Dash / US Dollar (calculated by TradingView)         \n",
       "4  EOSUSD  crypto EOS / US Dollar (calculated by TradingView)          \n",
       "5  ETHUSD  crypto Ethereum / US Dollar (calculated by TradingView)     \n",
       "6  IOTAUSD crypto IOTA / US Dollar (calculated by TradingView)         \n",
       "7  LTCUSD  crypto Litecoin / US Dollar (calculated by TradingView)     \n",
       "8  XRPUSD  crypto XRP / U.S. dollar                                    \n",
       "9  DAX     index  DAX INDEX                                            \n",
       "10 DJI     index  Dow Jones Industrial Average                         \n",
       "11 IXIC    index  NASDAQ COMPOSITE                                     \n",
       "12 NI225   index  NIKKEI 225                                           \n",
       "13 NIFTY   index  NIFTY 50                                             \n",
       "14 SPX     index  S&P 500                                              \n",
       "15 TSX     index  S&P/TSX COMPOSITE INDEX                              \n",
       "16 VIX     index  CBOE VOLATILITY INDEX                                \n",
       "17 AAPL    stock  APPLE INC                                            \n",
       "18 AMZN    stock  AMAZON COM INC                                       \n",
       "19 BABA    stock  ALIBABA GROUP HOLDING LTD SPON ADS EACH REP 8 ORD SHS\n",
       "20 FB      stock  FACEBOOK INC                                         \n",
       "21 GOOG    stock  ALPHABET INC                                         \n",
       "22 JNJ     stock  JOHNSON & JOHNSON                                    \n",
       "23 JPM     stock  JPMORGAN CHASE & CO.                                 \n",
       "24 MSFT    stock  MICROSOFT CORP                                       "
      ]
     },
     "metadata": {},
     "output_type": "display_data"
    }
   ],
   "source": [
    "products %>% arrange(type, ticker)"
   ]
  },
  {
   "cell_type": "code",
   "execution_count": 11,
   "metadata": {},
   "outputs": [
    {
     "data": {
      "text/html": [
       "<table>\n",
       "<caption>A grouped_df: 24 × 5</caption>\n",
       "<thead>\n",
       "\t<tr><th scope=col>type</th><th scope=col>ticker</th><th scope=col>from_date</th><th scope=col>to_date</th><th scope=col>days_cny</th></tr>\n",
       "\t<tr><th scope=col>&lt;chr&gt;</th><th scope=col>&lt;chr&gt;</th><th scope=col>&lt;date&gt;</th><th scope=col>&lt;date&gt;</th><th scope=col>&lt;int&gt;</th></tr>\n",
       "</thead>\n",
       "<tbody>\n",
       "\t<tr><td>crypto</td><td>BNBUSD </td><td>2019-09-22</td><td>2020-02-22</td><td>154</td></tr>\n",
       "\t<tr><td>crypto</td><td>BTCUSD </td><td>2019-09-22</td><td>2020-02-22</td><td>154</td></tr>\n",
       "\t<tr><td>crypto</td><td>DASHUSD</td><td>2019-09-22</td><td>2020-02-22</td><td>154</td></tr>\n",
       "\t<tr><td>crypto</td><td>EOSUSD </td><td>2019-09-22</td><td>2020-02-22</td><td>154</td></tr>\n",
       "\t<tr><td>crypto</td><td>ETHUSD </td><td>2019-09-22</td><td>2020-02-22</td><td>154</td></tr>\n",
       "\t<tr><td>crypto</td><td>IOTAUSD</td><td>2019-09-22</td><td>2020-02-22</td><td>154</td></tr>\n",
       "\t<tr><td>crypto</td><td>LTCUSD </td><td>2019-09-22</td><td>2020-02-22</td><td>154</td></tr>\n",
       "\t<tr><td>crypto</td><td>XRPUSD </td><td>2019-09-22</td><td>2020-02-22</td><td>154</td></tr>\n",
       "\t<tr><td>index </td><td>DAX    </td><td>2019-09-23</td><td>2020-02-21</td><td>105</td></tr>\n",
       "\t<tr><td>index </td><td>DJI    </td><td>2019-09-23</td><td>2020-02-21</td><td>105</td></tr>\n",
       "\t<tr><td>index </td><td>IXIC   </td><td>2019-09-23</td><td>2020-02-21</td><td>105</td></tr>\n",
       "\t<tr><td>index </td><td>NI225  </td><td>2019-09-23</td><td>2020-02-21</td><td>105</td></tr>\n",
       "\t<tr><td>index </td><td>NIFTY  </td><td>2019-09-23</td><td>2020-02-21</td><td>105</td></tr>\n",
       "\t<tr><td>index </td><td>SPX    </td><td>2019-09-23</td><td>2020-02-21</td><td>105</td></tr>\n",
       "\t<tr><td>index </td><td>TSX    </td><td>2019-09-23</td><td>2020-02-21</td><td>105</td></tr>\n",
       "\t<tr><td>index </td><td>VIX    </td><td>2019-09-23</td><td>2020-02-21</td><td>105</td></tr>\n",
       "\t<tr><td>stock </td><td>AAPL   </td><td>2019-09-23</td><td>2020-02-21</td><td>105</td></tr>\n",
       "\t<tr><td>stock </td><td>AMZN   </td><td>2019-09-23</td><td>2020-02-21</td><td>105</td></tr>\n",
       "\t<tr><td>stock </td><td>BABA   </td><td>2019-09-23</td><td>2020-02-21</td><td>105</td></tr>\n",
       "\t<tr><td>stock </td><td>FB     </td><td>2019-09-23</td><td>2020-02-21</td><td>105</td></tr>\n",
       "\t<tr><td>stock </td><td>GOOG   </td><td>2019-09-23</td><td>2020-02-21</td><td>105</td></tr>\n",
       "\t<tr><td>stock </td><td>JNJ    </td><td>2019-09-23</td><td>2020-02-21</td><td>105</td></tr>\n",
       "\t<tr><td>stock </td><td>JPM    </td><td>2019-09-23</td><td>2020-02-21</td><td>105</td></tr>\n",
       "\t<tr><td>stock </td><td>MSFT   </td><td>2019-09-23</td><td>2020-02-21</td><td>105</td></tr>\n",
       "</tbody>\n",
       "</table>\n"
      ],
      "text/latex": [
       "A grouped\\_df: 24 × 5\n",
       "\\begin{tabular}{lllll}\n",
       " type & ticker & from\\_date & to\\_date & days\\_cny\\\\\n",
       " <chr> & <chr> & <date> & <date> & <int>\\\\\n",
       "\\hline\n",
       "\t crypto & BNBUSD  & 2019-09-22 & 2020-02-22 & 154\\\\\n",
       "\t crypto & BTCUSD  & 2019-09-22 & 2020-02-22 & 154\\\\\n",
       "\t crypto & DASHUSD & 2019-09-22 & 2020-02-22 & 154\\\\\n",
       "\t crypto & EOSUSD  & 2019-09-22 & 2020-02-22 & 154\\\\\n",
       "\t crypto & ETHUSD  & 2019-09-22 & 2020-02-22 & 154\\\\\n",
       "\t crypto & IOTAUSD & 2019-09-22 & 2020-02-22 & 154\\\\\n",
       "\t crypto & LTCUSD  & 2019-09-22 & 2020-02-22 & 154\\\\\n",
       "\t crypto & XRPUSD  & 2019-09-22 & 2020-02-22 & 154\\\\\n",
       "\t index  & DAX     & 2019-09-23 & 2020-02-21 & 105\\\\\n",
       "\t index  & DJI     & 2019-09-23 & 2020-02-21 & 105\\\\\n",
       "\t index  & IXIC    & 2019-09-23 & 2020-02-21 & 105\\\\\n",
       "\t index  & NI225   & 2019-09-23 & 2020-02-21 & 105\\\\\n",
       "\t index  & NIFTY   & 2019-09-23 & 2020-02-21 & 105\\\\\n",
       "\t index  & SPX     & 2019-09-23 & 2020-02-21 & 105\\\\\n",
       "\t index  & TSX     & 2019-09-23 & 2020-02-21 & 105\\\\\n",
       "\t index  & VIX     & 2019-09-23 & 2020-02-21 & 105\\\\\n",
       "\t stock  & AAPL    & 2019-09-23 & 2020-02-21 & 105\\\\\n",
       "\t stock  & AMZN    & 2019-09-23 & 2020-02-21 & 105\\\\\n",
       "\t stock  & BABA    & 2019-09-23 & 2020-02-21 & 105\\\\\n",
       "\t stock  & FB      & 2019-09-23 & 2020-02-21 & 105\\\\\n",
       "\t stock  & GOOG    & 2019-09-23 & 2020-02-21 & 105\\\\\n",
       "\t stock  & JNJ     & 2019-09-23 & 2020-02-21 & 105\\\\\n",
       "\t stock  & JPM     & 2019-09-23 & 2020-02-21 & 105\\\\\n",
       "\t stock  & MSFT    & 2019-09-23 & 2020-02-21 & 105\\\\\n",
       "\\end{tabular}\n"
      ],
      "text/markdown": [
       "\n",
       "A grouped_df: 24 × 5\n",
       "\n",
       "| type &lt;chr&gt; | ticker &lt;chr&gt; | from_date &lt;date&gt; | to_date &lt;date&gt; | days_cny &lt;int&gt; |\n",
       "|---|---|---|---|---|\n",
       "| crypto | BNBUSD  | 2019-09-22 | 2020-02-22 | 154 |\n",
       "| crypto | BTCUSD  | 2019-09-22 | 2020-02-22 | 154 |\n",
       "| crypto | DASHUSD | 2019-09-22 | 2020-02-22 | 154 |\n",
       "| crypto | EOSUSD  | 2019-09-22 | 2020-02-22 | 154 |\n",
       "| crypto | ETHUSD  | 2019-09-22 | 2020-02-22 | 154 |\n",
       "| crypto | IOTAUSD | 2019-09-22 | 2020-02-22 | 154 |\n",
       "| crypto | LTCUSD  | 2019-09-22 | 2020-02-22 | 154 |\n",
       "| crypto | XRPUSD  | 2019-09-22 | 2020-02-22 | 154 |\n",
       "| index  | DAX     | 2019-09-23 | 2020-02-21 | 105 |\n",
       "| index  | DJI     | 2019-09-23 | 2020-02-21 | 105 |\n",
       "| index  | IXIC    | 2019-09-23 | 2020-02-21 | 105 |\n",
       "| index  | NI225   | 2019-09-23 | 2020-02-21 | 105 |\n",
       "| index  | NIFTY   | 2019-09-23 | 2020-02-21 | 105 |\n",
       "| index  | SPX     | 2019-09-23 | 2020-02-21 | 105 |\n",
       "| index  | TSX     | 2019-09-23 | 2020-02-21 | 105 |\n",
       "| index  | VIX     | 2019-09-23 | 2020-02-21 | 105 |\n",
       "| stock  | AAPL    | 2019-09-23 | 2020-02-21 | 105 |\n",
       "| stock  | AMZN    | 2019-09-23 | 2020-02-21 | 105 |\n",
       "| stock  | BABA    | 2019-09-23 | 2020-02-21 | 105 |\n",
       "| stock  | FB      | 2019-09-23 | 2020-02-21 | 105 |\n",
       "| stock  | GOOG    | 2019-09-23 | 2020-02-21 | 105 |\n",
       "| stock  | JNJ     | 2019-09-23 | 2020-02-21 | 105 |\n",
       "| stock  | JPM     | 2019-09-23 | 2020-02-21 | 105 |\n",
       "| stock  | MSFT    | 2019-09-23 | 2020-02-21 | 105 |\n",
       "\n"
      ],
      "text/plain": [
       "   type   ticker  from_date  to_date    days_cny\n",
       "1  crypto BNBUSD  2019-09-22 2020-02-22 154     \n",
       "2  crypto BTCUSD  2019-09-22 2020-02-22 154     \n",
       "3  crypto DASHUSD 2019-09-22 2020-02-22 154     \n",
       "4  crypto EOSUSD  2019-09-22 2020-02-22 154     \n",
       "5  crypto ETHUSD  2019-09-22 2020-02-22 154     \n",
       "6  crypto IOTAUSD 2019-09-22 2020-02-22 154     \n",
       "7  crypto LTCUSD  2019-09-22 2020-02-22 154     \n",
       "8  crypto XRPUSD  2019-09-22 2020-02-22 154     \n",
       "9  index  DAX     2019-09-23 2020-02-21 105     \n",
       "10 index  DJI     2019-09-23 2020-02-21 105     \n",
       "11 index  IXIC    2019-09-23 2020-02-21 105     \n",
       "12 index  NI225   2019-09-23 2020-02-21 105     \n",
       "13 index  NIFTY   2019-09-23 2020-02-21 105     \n",
       "14 index  SPX     2019-09-23 2020-02-21 105     \n",
       "15 index  TSX     2019-09-23 2020-02-21 105     \n",
       "16 index  VIX     2019-09-23 2020-02-21 105     \n",
       "17 stock  AAPL    2019-09-23 2020-02-21 105     \n",
       "18 stock  AMZN    2019-09-23 2020-02-21 105     \n",
       "19 stock  BABA    2019-09-23 2020-02-21 105     \n",
       "20 stock  FB      2019-09-23 2020-02-21 105     \n",
       "21 stock  GOOG    2019-09-23 2020-02-21 105     \n",
       "22 stock  JNJ     2019-09-23 2020-02-21 105     \n",
       "23 stock  JPM     2019-09-23 2020-02-21 105     \n",
       "24 stock  MSFT    2019-09-23 2020-02-21 105     "
      ]
     },
     "metadata": {},
     "output_type": "display_data"
    }
   ],
   "source": [
    "data %>%\n",
    "  group_by(type, ticker) %>%\n",
    "  summarise(\n",
    "    from_date = min(date), \n",
    "    to_date   = max(date), \n",
    "    days_cny  = n()\n",
    "  ) "
   ]
  },
  {
   "cell_type": "markdown",
   "metadata": {},
   "source": [
    "### Signals"
   ]
  },
  {
   "cell_type": "code",
   "execution_count": 6,
   "metadata": {
    "scrolled": true
   },
   "outputs": [
    {
     "data": {
      "text/html": [
       "<table>\n",
       "<caption>A tibble: 3 × 2</caption>\n",
       "<thead>\n",
       "\t<tr><th scope=col>rating_osc</th><th scope=col>n</th></tr>\n",
       "\t<tr><th scope=col>&lt;chr&gt;</th><th scope=col>&lt;int&gt;</th></tr>\n",
       "</thead>\n",
       "<tbody>\n",
       "\t<tr><td>Buy    </td><td>1136</td></tr>\n",
       "\t<tr><td>Neutral</td><td> 790</td></tr>\n",
       "\t<tr><td>Sell   </td><td> 986</td></tr>\n",
       "</tbody>\n",
       "</table>\n"
      ],
      "text/latex": [
       "A tibble: 3 × 2\n",
       "\\begin{tabular}{ll}\n",
       " rating\\_osc & n\\\\\n",
       " <chr> & <int>\\\\\n",
       "\\hline\n",
       "\t Buy     & 1136\\\\\n",
       "\t Neutral &  790\\\\\n",
       "\t Sell    &  986\\\\\n",
       "\\end{tabular}\n"
      ],
      "text/markdown": [
       "\n",
       "A tibble: 3 × 2\n",
       "\n",
       "| rating_osc &lt;chr&gt; | n &lt;int&gt; |\n",
       "|---|---|\n",
       "| Buy     | 1136 |\n",
       "| Neutral |  790 |\n",
       "| Sell    |  986 |\n",
       "\n"
      ],
      "text/plain": [
       "  rating_osc n   \n",
       "1 Buy        1136\n",
       "2 Neutral     790\n",
       "3 Sell        986"
      ]
     },
     "metadata": {},
     "output_type": "display_data"
    }
   ],
   "source": [
    "data %>% count(rating_osc)"
   ]
  },
  {
   "cell_type": "code",
   "execution_count": 7,
   "metadata": {
    "scrolled": true
   },
   "outputs": [
    {
     "data": {
      "text/html": [
       "<table>\n",
       "<caption>A tibble: 5 × 2</caption>\n",
       "<thead>\n",
       "\t<tr><th scope=col>rating_ma</th><th scope=col>n</th></tr>\n",
       "\t<tr><th scope=col>&lt;chr&gt;</th><th scope=col>&lt;int&gt;</th></tr>\n",
       "</thead>\n",
       "<tbody>\n",
       "\t<tr><td>Buy       </td><td> 362</td></tr>\n",
       "\t<tr><td>Neutral   </td><td>  78</td></tr>\n",
       "\t<tr><td>Sell      </td><td> 223</td></tr>\n",
       "\t<tr><td>Srong Buy </td><td>1511</td></tr>\n",
       "\t<tr><td>Srong Sell</td><td> 738</td></tr>\n",
       "</tbody>\n",
       "</table>\n"
      ],
      "text/latex": [
       "A tibble: 5 × 2\n",
       "\\begin{tabular}{ll}\n",
       " rating\\_ma & n\\\\\n",
       " <chr> & <int>\\\\\n",
       "\\hline\n",
       "\t Buy        &  362\\\\\n",
       "\t Neutral    &   78\\\\\n",
       "\t Sell       &  223\\\\\n",
       "\t Srong Buy  & 1511\\\\\n",
       "\t Srong Sell &  738\\\\\n",
       "\\end{tabular}\n"
      ],
      "text/markdown": [
       "\n",
       "A tibble: 5 × 2\n",
       "\n",
       "| rating_ma &lt;chr&gt; | n &lt;int&gt; |\n",
       "|---|---|\n",
       "| Buy        |  362 |\n",
       "| Neutral    |   78 |\n",
       "| Sell       |  223 |\n",
       "| Srong Buy  | 1511 |\n",
       "| Srong Sell |  738 |\n",
       "\n"
      ],
      "text/plain": [
       "  rating_ma  n   \n",
       "1 Buy         362\n",
       "2 Neutral      78\n",
       "3 Sell        223\n",
       "4 Srong Buy  1511\n",
       "5 Srong Sell  738"
      ]
     },
     "metadata": {},
     "output_type": "display_data"
    }
   ],
   "source": [
    "data %>% count(rating_ma)"
   ]
  },
  {
   "cell_type": "markdown",
   "metadata": {},
   "source": [
    "## Market data"
   ]
  },
  {
   "cell_type": "code",
   "execution_count": 17,
   "metadata": {},
   "outputs": [],
   "source": [
    "# ETF used\n",
    "etf_code <- c(\"SPX\"   = \"SPY\", \n",
    "              \"IXIC\"  = \"ONEQ\", \n",
    "              \"DJI\"   = \"DIA\", \n",
    "              \"VIX\"   = \"VXX\", \n",
    "              \"NI225\" = 'CNKY.LON',\n",
    "              \"TSX\"   = \"XIU.TRT\", \n",
    "              \"DAX\"   = \"DAX\", \n",
    "              \"NIFTY\" = \"NFTY\")"
   ]
  },
  {
   "cell_type": "code",
   "execution_count": null,
   "metadata": {},
   "outputs": [],
   "source": [
    "data_list <- lapply(\n",
    "  1:nrow(products), \n",
    "  function(i){\n",
    "    Sys.sleep(12)\n",
    "    print(i)\n",
    "    \n",
    "    if (products$type[i] == \"crypto\"){\n",
    "      \n",
    "      symbol <- str_replace(products$ticker[i], \"USD\", \"\")\n",
    "      \n",
    "      api_url <- str_c(\"https://www.alphavantage.co/query?function=DIGITAL_CURRENCY_DAILY&symbol=\", symbol ,\"&datatype=csv&market=USD&apikey=\", .av_api_key )\n",
    "      \n",
    "      data <- read_csv(api_url)\n",
    "      \n",
    "      data <- data %>%\n",
    "        mutate(\n",
    "          date   = as.Date(timestamp),\n",
    "          ticker = products$ticker[i]\n",
    "        ) %>%\n",
    "        filter(date >= '2019-01-01') %>%\n",
    "        select(ticker, date, close = \"close (USD)\", )\n",
    "      \n",
    "      data\n",
    "      \n",
    "    } else {\n",
    "      \n",
    "      symbol <- if_else(products$type[i] == \"index\", etf_code[products$ticker[i]], products$ticker[i])\n",
    "      \n",
    "      api_url <- str_c(\"https://www.alphavantage.co/query?function=TIME_SERIES_DAILY_ADJUSTED&symbol=\", symbol ,\"&datatype=csv&outputsize=full&apikey=\", .av_api_key)\n",
    "      \n",
    "      data <- read_csv(api_url)\n",
    "      \n",
    "      data <- data %>%\n",
    "        mutate(\n",
    "          date   = as.Date(timestamp),\n",
    "          ticker = products$ticker[i]\n",
    "        ) %>%\n",
    "        filter(date >= '2019-01-01') %>%\n",
    "        select(ticker, date, close)\n",
    "      \n",
    "      data\n",
    "    }\n",
    "  }\n",
    ")\n",
    "\n",
    "data_df <- bind_rows(data_list)\n",
    "\n",
    "# Calculate daily P&L and add to the data \n",
    "data_df <- data_df %>%\n",
    "  group_by(ticker) %>%\n",
    "  arrange(date) %>%\n",
    "  mutate(\n",
    "    pnl = replace_na(close / lag(close) - 1, 0)\n",
    "  )\n",
    "\n",
    "data <- data %>%\n",
    "  inner_join(data_df, by = c(\"date\", \"ticker\"))\n"
   ]
  },
  {
   "cell_type": "markdown",
   "metadata": {},
   "source": [
    "## Strategy"
   ]
  },
  {
   "cell_type": "code",
   "execution_count": 13,
   "metadata": {},
   "outputs": [
    {
     "data": {
      "text/html": [
       "<table>\n",
       "<caption>A tibble: 5 × 3</caption>\n",
       "<thead>\n",
       "\t<tr><th scope=col>Rating</th><th scope=col>Osc</th><th scope=col>MA</th></tr>\n",
       "\t<tr><th scope=col>&lt;chr&gt;</th><th scope=col>&lt;chr&gt;</th><th scope=col>&lt;chr&gt;</th></tr>\n",
       "</thead>\n",
       "<tbody>\n",
       "\t<tr><td>Strong Sell</td><td>NA   </td><td>-100%</td></tr>\n",
       "\t<tr><td>Sell       </td><td>-100%</td><td>-50% </td></tr>\n",
       "\t<tr><td>Neutral    </td><td>0%   </td><td>0%   </td></tr>\n",
       "\t<tr><td>Buy        </td><td>100% </td><td>50%  </td></tr>\n",
       "\t<tr><td>Srong Buy  </td><td>NA   </td><td>100% </td></tr>\n",
       "</tbody>\n",
       "</table>\n"
      ],
      "text/latex": [
       "A tibble: 5 × 3\n",
       "\\begin{tabular}{lll}\n",
       " Rating & Osc & MA\\\\\n",
       " <chr> & <chr> & <chr>\\\\\n",
       "\\hline\n",
       "\t Strong Sell & NA    & -100\\%\\\\\n",
       "\t Sell        & -100\\% & -50\\% \\\\\n",
       "\t Neutral     & 0\\%    & 0\\%   \\\\\n",
       "\t Buy         & 100\\%  & 50\\%  \\\\\n",
       "\t Srong Buy   & NA    & 100\\% \\\\\n",
       "\\end{tabular}\n"
      ],
      "text/markdown": [
       "\n",
       "A tibble: 5 × 3\n",
       "\n",
       "| Rating &lt;chr&gt; | Osc &lt;chr&gt; | MA &lt;chr&gt; |\n",
       "|---|---|---|\n",
       "| Strong Sell | NA    | -100% |\n",
       "| Sell        | -100% | -50%  |\n",
       "| Neutral     | 0%    | 0%    |\n",
       "| Buy         | 100%  | 50%   |\n",
       "| Srong Buy   | NA    | 100%  |\n",
       "\n"
      ],
      "text/plain": [
       "  Rating      Osc   MA   \n",
       "1 Strong Sell NA    -100%\n",
       "2 Sell        -100% -50% \n",
       "3 Neutral     0%    0%   \n",
       "4 Buy         100%  50%  \n",
       "5 Srong Buy   NA    100% "
      ]
     },
     "metadata": {},
     "output_type": "display_data"
    }
   ],
   "source": [
    "tibble(\n",
    "  Rating = c('Strong Sell', 'Sell', 'Neutral', \"Buy\", \"Srong Buy\"), \n",
    "  Osc    = c(NA, \"-100%\", \"0%\", \"100%\", NA), \n",
    "  MA     = c(\"-100%\", \"-50%\", \"0%\", \"50%\", \"100%\")\n",
    ")"
   ]
  },
  {
   "cell_type": "code",
   "execution_count": 27,
   "metadata": {},
   "outputs": [],
   "source": [
    "# Adjust P&L for Osc and MA\n",
    "data <- data %>%\n",
    "  mutate(\n",
    "    pnl_osc = case_when(\n",
    "      rating_osc == 'Buy'  ~ pnl,\n",
    "      rating_osc == 'Sell' ~ -pnl,\n",
    "      TRUE            ~ 0\n",
    "    ), \n",
    "    pnl_ma = case_when(\n",
    "      rating_osc == 'Buy'        ~  pnl / 2,\n",
    "      rating_osc == 'Sell'       ~ -pnl / 2,\n",
    "      rating_osc == 'Srong Buy'  ~  pnl,\n",
    "      rating_osc == 'Srong Sell' ~ -pnl,\n",
    "      TRUE            ~ 0\n",
    "    )\n",
    "  )\n",
    "\n",
    "# Calculate Buy and Hold, Osc and MA returns\n",
    "results <- data %>%\n",
    "  group_by(type, ticker) %>%\n",
    "  summarise(\n",
    "    hold_result = round(prod(1 + pnl)     - 1, 4) * 100,\n",
    "    osc_result  = round(prod(1 + pnl_osc) - 1, 4) * 100,\n",
    "    ma_result   = round(prod(1 + pnl_ma)  - 1, 4) * 100,\n",
    "    osc_better  = if_else(osc_result  > hold_result, 'x', \"\"),\n",
    "    ma_better   = if_else(ma_result   > hold_result, 'x', \"\")\n",
    "  )"
   ]
  },
  {
   "cell_type": "markdown",
   "metadata": {},
   "source": [
    "## Results"
   ]
  },
  {
   "cell_type": "code",
   "execution_count": 28,
   "metadata": {},
   "outputs": [
    {
     "data": {
      "text/html": [
       "<table>\n",
       "<caption>A grouped_df: 24 × 7</caption>\n",
       "<thead>\n",
       "\t<tr><th scope=col>type</th><th scope=col>ticker</th><th scope=col>hold_result</th><th scope=col>osc_result</th><th scope=col>ma_result</th><th scope=col>osc_better</th><th scope=col>ma_better</th></tr>\n",
       "\t<tr><th scope=col>&lt;chr&gt;</th><th scope=col>&lt;chr&gt;</th><th scope=col>&lt;chr&gt;</th><th scope=col>&lt;chr&gt;</th><th scope=col>&lt;chr&gt;</th><th scope=col>&lt;chr&gt;</th><th scope=col>&lt;chr&gt;</th></tr>\n",
       "</thead>\n",
       "<tbody>\n",
       "\t<tr><td>crypto</td><td>BNBUSD </td><td>4.78%  </td><td>10.75% </td><td>7.99%  </td><td>x</td><td>x</td></tr>\n",
       "\t<tr><td>crypto</td><td>BTCUSD </td><td>-3.36% </td><td>45.35% </td><td>21.93% </td><td>x</td><td>x</td></tr>\n",
       "\t<tr><td>crypto</td><td>DASHUSD</td><td>11.6%  </td><td>-64.2% </td><td>-34.17%</td><td> </td><td> </td></tr>\n",
       "\t<tr><td>crypto</td><td>EOSUSD </td><td>2.54%  </td><td>17.24% </td><td>11.59% </td><td>x</td><td>x</td></tr>\n",
       "\t<tr><td>crypto</td><td>ETHUSD </td><td>21.63% </td><td>-11.33%</td><td>-3.93% </td><td> </td><td> </td></tr>\n",
       "\t<tr><td>crypto</td><td>IOTAUSD</td><td>-8.03% </td><td>-12.84%</td><td>-5.07% </td><td> </td><td>x</td></tr>\n",
       "\t<tr><td>crypto</td><td>LTCUSD </td><td>2.14%  </td><td>-34.28%</td><td>-16.75%</td><td> </td><td> </td></tr>\n",
       "\t<tr><td>crypto</td><td>XRPUSD </td><td>-5.16% </td><td>-48.45%</td><td>-26.84%</td><td> </td><td> </td></tr>\n",
       "\t<tr><td>index </td><td>DAX    </td><td>7.22%  </td><td>-11.13%</td><td>-5.67% </td><td> </td><td> </td></tr>\n",
       "\t<tr><td>index </td><td>DJI    </td><td>7.61%  </td><td>-4.81% </td><td>-2.39% </td><td> </td><td> </td></tr>\n",
       "\t<tr><td>index </td><td>IXIC   </td><td>16.95% </td><td>1.21%  </td><td>0.65%  </td><td> </td><td> </td></tr>\n",
       "\t<tr><td>index </td><td>NI225  </td><td>-1.3%  </td><td>-2.41% </td><td>-1.16% </td><td> </td><td>x</td></tr>\n",
       "\t<tr><td>index </td><td>NIFTY  </td><td>0.37%  </td><td>15.7%  </td><td>7.66%  </td><td>x</td><td>x</td></tr>\n",
       "\t<tr><td>index </td><td>SPX    </td><td>11.8%  </td><td>-4.01% </td><td>-1.99% </td><td> </td><td> </td></tr>\n",
       "\t<tr><td>index </td><td>TSX    </td><td>5.3%   </td><td>-3.24% </td><td>-1.62% </td><td> </td><td> </td></tr>\n",
       "\t<tr><td>index </td><td>VIX    </td><td>-36.02%</td><td>-21.09%</td><td>-10.25%</td><td>x</td><td>x</td></tr>\n",
       "\t<tr><td>stock </td><td>AAPL   </td><td>43.78% </td><td>6.18%  </td><td>3.24%  </td><td> </td><td> </td></tr>\n",
       "\t<tr><td>stock </td><td>AMZN   </td><td>16.82% </td><td>-12.49%</td><td>-6.31% </td><td> </td><td> </td></tr>\n",
       "\t<tr><td>stock </td><td>BABA   </td><td>16.48% </td><td>-4.08% </td><td>-1.71% </td><td> </td><td> </td></tr>\n",
       "\t<tr><td>stock </td><td>FB     </td><td>10.66% </td><td>3.82%  </td><td>2.15%  </td><td> </td><td> </td></tr>\n",
       "\t<tr><td>stock </td><td>GOOG   </td><td>20.75% </td><td>6.38%  </td><td>3.24%  </td><td> </td><td> </td></tr>\n",
       "\t<tr><td>stock </td><td>JNJ    </td><td>13.89% </td><td>-8.81% </td><td>-4.43% </td><td> </td><td> </td></tr>\n",
       "\t<tr><td>stock </td><td>JPM    </td><td>14.22% </td><td>2.16%  </td><td>1.2%   </td><td> </td><td> </td></tr>\n",
       "\t<tr><td>stock </td><td>MSFT   </td><td>28.08% </td><td>-9.86% </td><td>-4.94% </td><td> </td><td> </td></tr>\n",
       "</tbody>\n",
       "</table>\n"
      ],
      "text/latex": [
       "A grouped\\_df: 24 × 7\n",
       "\\begin{tabular}{lllllll}\n",
       " type & ticker & hold\\_result & osc\\_result & ma\\_result & osc\\_better & ma\\_better\\\\\n",
       " <chr> & <chr> & <chr> & <chr> & <chr> & <chr> & <chr>\\\\\n",
       "\\hline\n",
       "\t crypto & BNBUSD  & 4.78\\%   & 10.75\\%  & 7.99\\%   & x & x\\\\\n",
       "\t crypto & BTCUSD  & -3.36\\%  & 45.35\\%  & 21.93\\%  & x & x\\\\\n",
       "\t crypto & DASHUSD & 11.6\\%   & -64.2\\%  & -34.17\\% &   &  \\\\\n",
       "\t crypto & EOSUSD  & 2.54\\%   & 17.24\\%  & 11.59\\%  & x & x\\\\\n",
       "\t crypto & ETHUSD  & 21.63\\%  & -11.33\\% & -3.93\\%  &   &  \\\\\n",
       "\t crypto & IOTAUSD & -8.03\\%  & -12.84\\% & -5.07\\%  &   & x\\\\\n",
       "\t crypto & LTCUSD  & 2.14\\%   & -34.28\\% & -16.75\\% &   &  \\\\\n",
       "\t crypto & XRPUSD  & -5.16\\%  & -48.45\\% & -26.84\\% &   &  \\\\\n",
       "\t index  & DAX     & 7.22\\%   & -11.13\\% & -5.67\\%  &   &  \\\\\n",
       "\t index  & DJI     & 7.61\\%   & -4.81\\%  & -2.39\\%  &   &  \\\\\n",
       "\t index  & IXIC    & 16.95\\%  & 1.21\\%   & 0.65\\%   &   &  \\\\\n",
       "\t index  & NI225   & -1.3\\%   & -2.41\\%  & -1.16\\%  &   & x\\\\\n",
       "\t index  & NIFTY   & 0.37\\%   & 15.7\\%   & 7.66\\%   & x & x\\\\\n",
       "\t index  & SPX     & 11.8\\%   & -4.01\\%  & -1.99\\%  &   &  \\\\\n",
       "\t index  & TSX     & 5.3\\%    & -3.24\\%  & -1.62\\%  &   &  \\\\\n",
       "\t index  & VIX     & -36.02\\% & -21.09\\% & -10.25\\% & x & x\\\\\n",
       "\t stock  & AAPL    & 43.78\\%  & 6.18\\%   & 3.24\\%   &   &  \\\\\n",
       "\t stock  & AMZN    & 16.82\\%  & -12.49\\% & -6.31\\%  &   &  \\\\\n",
       "\t stock  & BABA    & 16.48\\%  & -4.08\\%  & -1.71\\%  &   &  \\\\\n",
       "\t stock  & FB      & 10.66\\%  & 3.82\\%   & 2.15\\%   &   &  \\\\\n",
       "\t stock  & GOOG    & 20.75\\%  & 6.38\\%   & 3.24\\%   &   &  \\\\\n",
       "\t stock  & JNJ     & 13.89\\%  & -8.81\\%  & -4.43\\%  &   &  \\\\\n",
       "\t stock  & JPM     & 14.22\\%  & 2.16\\%   & 1.2\\%    &   &  \\\\\n",
       "\t stock  & MSFT    & 28.08\\%  & -9.86\\%  & -4.94\\%  &   &  \\\\\n",
       "\\end{tabular}\n"
      ],
      "text/markdown": [
       "\n",
       "A grouped_df: 24 × 7\n",
       "\n",
       "| type &lt;chr&gt; | ticker &lt;chr&gt; | hold_result &lt;chr&gt; | osc_result &lt;chr&gt; | ma_result &lt;chr&gt; | osc_better &lt;chr&gt; | ma_better &lt;chr&gt; |\n",
       "|---|---|---|---|---|---|---|\n",
       "| crypto | BNBUSD  | 4.78%   | 10.75%  | 7.99%   | x | x |\n",
       "| crypto | BTCUSD  | -3.36%  | 45.35%  | 21.93%  | x | x |\n",
       "| crypto | DASHUSD | 11.6%   | -64.2%  | -34.17% | <!----> | <!----> |\n",
       "| crypto | EOSUSD  | 2.54%   | 17.24%  | 11.59%  | x | x |\n",
       "| crypto | ETHUSD  | 21.63%  | -11.33% | -3.93%  | <!----> | <!----> |\n",
       "| crypto | IOTAUSD | -8.03%  | -12.84% | -5.07%  | <!----> | x |\n",
       "| crypto | LTCUSD  | 2.14%   | -34.28% | -16.75% | <!----> | <!----> |\n",
       "| crypto | XRPUSD  | -5.16%  | -48.45% | -26.84% | <!----> | <!----> |\n",
       "| index  | DAX     | 7.22%   | -11.13% | -5.67%  | <!----> | <!----> |\n",
       "| index  | DJI     | 7.61%   | -4.81%  | -2.39%  | <!----> | <!----> |\n",
       "| index  | IXIC    | 16.95%  | 1.21%   | 0.65%   | <!----> | <!----> |\n",
       "| index  | NI225   | -1.3%   | -2.41%  | -1.16%  | <!----> | x |\n",
       "| index  | NIFTY   | 0.37%   | 15.7%   | 7.66%   | x | x |\n",
       "| index  | SPX     | 11.8%   | -4.01%  | -1.99%  | <!----> | <!----> |\n",
       "| index  | TSX     | 5.3%    | -3.24%  | -1.62%  | <!----> | <!----> |\n",
       "| index  | VIX     | -36.02% | -21.09% | -10.25% | x | x |\n",
       "| stock  | AAPL    | 43.78%  | 6.18%   | 3.24%   | <!----> | <!----> |\n",
       "| stock  | AMZN    | 16.82%  | -12.49% | -6.31%  | <!----> | <!----> |\n",
       "| stock  | BABA    | 16.48%  | -4.08%  | -1.71%  | <!----> | <!----> |\n",
       "| stock  | FB      | 10.66%  | 3.82%   | 2.15%   | <!----> | <!----> |\n",
       "| stock  | GOOG    | 20.75%  | 6.38%   | 3.24%   | <!----> | <!----> |\n",
       "| stock  | JNJ     | 13.89%  | -8.81%  | -4.43%  | <!----> | <!----> |\n",
       "| stock  | JPM     | 14.22%  | 2.16%   | 1.2%    | <!----> | <!----> |\n",
       "| stock  | MSFT    | 28.08%  | -9.86%  | -4.94%  | <!----> | <!----> |\n",
       "\n"
      ],
      "text/plain": [
       "   type   ticker  hold_result osc_result ma_result osc_better ma_better\n",
       "1  crypto BNBUSD  4.78%       10.75%     7.99%     x          x        \n",
       "2  crypto BTCUSD  -3.36%      45.35%     21.93%    x          x        \n",
       "3  crypto DASHUSD 11.6%       -64.2%     -34.17%                       \n",
       "4  crypto EOSUSD  2.54%       17.24%     11.59%    x          x        \n",
       "5  crypto ETHUSD  21.63%      -11.33%    -3.93%                        \n",
       "6  crypto IOTAUSD -8.03%      -12.84%    -5.07%               x        \n",
       "7  crypto LTCUSD  2.14%       -34.28%    -16.75%                       \n",
       "8  crypto XRPUSD  -5.16%      -48.45%    -26.84%                       \n",
       "9  index  DAX     7.22%       -11.13%    -5.67%                        \n",
       "10 index  DJI     7.61%       -4.81%     -2.39%                        \n",
       "11 index  IXIC    16.95%      1.21%      0.65%                         \n",
       "12 index  NI225   -1.3%       -2.41%     -1.16%               x        \n",
       "13 index  NIFTY   0.37%       15.7%      7.66%     x          x        \n",
       "14 index  SPX     11.8%       -4.01%     -1.99%                        \n",
       "15 index  TSX     5.3%        -3.24%     -1.62%                        \n",
       "16 index  VIX     -36.02%     -21.09%    -10.25%   x          x        \n",
       "17 stock  AAPL    43.78%      6.18%      3.24%                         \n",
       "18 stock  AMZN    16.82%      -12.49%    -6.31%                        \n",
       "19 stock  BABA    16.48%      -4.08%     -1.71%                        \n",
       "20 stock  FB      10.66%      3.82%      2.15%                         \n",
       "21 stock  GOOG    20.75%      6.38%      3.24%                         \n",
       "22 stock  JNJ     13.89%      -8.81%     -4.43%                        \n",
       "23 stock  JPM     14.22%      2.16%      1.2%                          \n",
       "24 stock  MSFT    28.08%      -9.86%     -4.94%                        "
      ]
     },
     "metadata": {},
     "output_type": "display_data"
    }
   ],
   "source": [
    "results %>%\n",
    " mutate(\n",
    "    hold_result = str_c(hold_result, \"%\"),\n",
    "    osc_result  = str_c(osc_result,  \"%\"),\n",
    "    ma_result   = str_c(ma_result,   \"%\")\n",
    " )"
   ]
  },
  {
   "cell_type": "code",
   "execution_count": null,
   "metadata": {},
   "outputs": [],
   "source": []
  }
 ],
 "metadata": {
  "kernelspec": {
   "display_name": "R",
   "language": "R",
   "name": "ir"
  },
  "language_info": {
   "codemirror_mode": "r",
   "file_extension": ".r",
   "mimetype": "text/x-r-source",
   "name": "R",
   "pygments_lexer": "r",
   "version": "3.6.2"
  },
  "varInspector": {
   "cols": {
    "lenName": 16,
    "lenType": 16,
    "lenVar": 40
   },
   "kernels_config": {
    "python": {
     "delete_cmd_postfix": "",
     "delete_cmd_prefix": "del ",
     "library": "var_list.py",
     "varRefreshCmd": "print(var_dic_list())"
    },
    "r": {
     "delete_cmd_postfix": ") ",
     "delete_cmd_prefix": "rm(",
     "library": "var_list.r",
     "varRefreshCmd": "cat(var_dic_list()) "
    }
   },
   "types_to_exclude": [
    "module",
    "function",
    "builtin_function_or_method",
    "instance",
    "_Feature"
   ],
   "window_display": false
  }
 },
 "nbformat": 4,
 "nbformat_minor": 2
}
